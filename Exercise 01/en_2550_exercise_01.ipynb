{
 "cells": [
  {
   "cell_type": "markdown",
   "metadata": {},
   "source": [
    "Name : A.M.A.D. ADIKARI"
   ]
  },
  {
   "cell_type": "markdown",
   "metadata": {},
   "source": [
    "Index No : 190021A"
   ]
  },
  {
   "cell_type": "code",
   "execution_count": 42,
   "metadata": {},
   "outputs": [
    {
     "name": "stdout",
     "output_type": "stream",
     "text": [
      "1 :  1\n",
      "2 :  4\n",
      "3 :  9\n",
      "4 :  16\n",
      "5 :  25\n"
     ]
    }
   ],
   "source": [
    "# Question 01\n",
    "# squares of numbers in the interval [1, 5]\n",
    "for i in range(1, 6):\n",
    "    print(i, ': ', i**2)"
   ]
  },
  {
   "cell_type": "code",
   "execution_count": 43,
   "metadata": {},
   "outputs": [
    {
     "name": "stdout",
     "output_type": "stream",
     "text": [
      "1 :  1\n",
      "4 :  16\n"
     ]
    }
   ],
   "source": [
    "# Question 02\n",
    "# squares of non-prime numbers in the interval [1, 5]\n",
    "import sympy\n",
    "for i in range(1, 6):\n",
    "    if not sympy.isprime(i):\n",
    "        print(i, ': ', i**2)"
   ]
  },
  {
   "cell_type": "code",
   "execution_count": 44,
   "metadata": {},
   "outputs": [
    {
     "name": "stdout",
     "output_type": "stream",
     "text": [
      "1 :  1\n",
      "2 :  4\n",
      "3 :  9\n",
      "4 :  16\n",
      "5 :  25\n"
     ]
    }
   ],
   "source": [
    "# Question 03\n",
    "# Question 01 with comprehension\n",
    "squares = [i**2 for i in range(1, 6)]\n",
    "for count, value in enumerate(squares, 1):\n",
    "    print(count, ': ', value)"
   ]
  },
  {
   "cell_type": "code",
   "execution_count": 45,
   "metadata": {},
   "outputs": [
    {
     "name": "stdout",
     "output_type": "stream",
     "text": [
      "1 :  1\n",
      "4 :  16\n"
     ]
    }
   ],
   "source": [
    "# Question 04\n",
    "# Question 02 with comprehension\n",
    "squares = [i for i in range(1, 6) if not sympy.isprime(i)]\n",
    "for i in squares:\n",
    "    print(i, ': ', i**2)\n"
   ]
  },
  {
   "cell_type": "code",
   "execution_count": 46,
   "metadata": {},
   "outputs": [
    {
     "name": "stdout",
     "output_type": "stream",
     "text": [
      "[[ 9 12 15  9]\n",
      " [25 32 39 19]\n",
      " [41 52 63 29]]\n"
     ]
    }
   ],
   "source": [
    "# Question 05\n",
    "# part (a)\n",
    "import numpy as np\n",
    "A = np.array([[1, 2], [3, 4], [5, 6]])\n",
    "B = np.array([[7, 8, 9, 1], [1, 2, 3, 4]])\n",
    "print(np.matmul(A, B))\n",
    "\n"
   ]
  },
  {
   "cell_type": "code",
   "execution_count": 47,
   "metadata": {},
   "outputs": [
    {
     "name": "stdout",
     "output_type": "stream",
     "text": [
      "[[ 3  4]\n",
      " [15 16]\n",
      " [15  6]]\n"
     ]
    }
   ],
   "source": [
    "# part (b)\n",
    "A = np.array([[1, 2], [3, 4], [5, 6]])\n",
    "B = np.array([[3, 2], [5, 4], [3, 1]])\n",
    "print(np.multiply(A, B))"
   ]
  },
  {
   "cell_type": "code",
   "execution_count": 48,
   "metadata": {},
   "outputs": [
    {
     "name": "stdout",
     "output_type": "stream",
     "text": [
      "random array\n",
      " [[ 4  3  8  9  7  5  4]\n",
      " [ 3  5  0  1  2  6  1]\n",
      " [ 3  0  7  1 10 10  6]\n",
      " [ 9  1  9  1 10  1  2]\n",
      " [ 4  4 10  3  3  0  8]]\n",
      "sub array\n",
      " [[3 5]\n",
      " [3 0]\n",
      " [9 1]]\n",
      "The size of the sub array : (3, 2)\n"
     ]
    }
   ],
   "source": [
    "# Question 06\n",
    "random_num = np.random.randint(0,11,(5,7))  # 5 x 7 matrix\n",
    "subarray = random_num[1:4, :2]              # 3 x 2 matrix\n",
    "\n",
    "print('random array\\n', random_num)\n",
    "print('sub array\\n', subarray)\n",
    "print('The size of the sub array :', np.shape(subarray))"
   ]
  },
  {
   "cell_type": "code",
   "execution_count": 49,
   "metadata": {},
   "outputs": [
    {
     "name": "stdout",
     "output_type": "stream",
     "text": [
      "Example 1\n",
      " [[ 2  3  4]\n",
      " [ 5  6  7]\n",
      " [ 8  9 10]]\n",
      "Example 2\n",
      " [[ 2  4  6]\n",
      " [ 5  7  9]\n",
      " [ 8 10 12]]\n",
      "Example 3\n",
      " [[ 5  8 11]\n",
      " [ 7 10 13]\n",
      " [ 9 12 15]]\n"
     ]
    }
   ],
   "source": [
    "# Question 07\n",
    "A = np.array([[1, 2, 3], [4, 5, 6], [7, 8, 9]]) # 3 x 3 matrix\n",
    "B = np.array([1])                               # 1 x 1 matrix\n",
    "C = np.array([1, 2, 3])                         # 1 x 3 matrix\n",
    "D = np.array([[4], [5], [6]])                   # 3 x 1 matrix\n",
    "\n",
    "# example 1\n",
    "print('Example 1\\n', A + B)\n",
    "\n",
    "#example 2\n",
    "print('Example 2\\n', A + C)\n",
    "\n",
    "# example 3\n",
    "A_reshaped = np.transpose(A)                    # 3 x 3 matrix\n",
    "print('Example 3\\n', A_reshaped + D)"
   ]
  },
  {
   "cell_type": "code",
   "execution_count": 56,
   "metadata": {},
   "outputs": [
    {
     "name": "stdout",
     "output_type": "stream",
     "text": [
      "X\n",
      " [[1. 0.]\n",
      " [1. 1.]\n",
      " [1. 2.]\n",
      " [1. 3.]\n",
      " [1. 4.]\n",
      " [1. 5.]\n",
      " [1. 6.]\n",
      " [1. 7.]\n",
      " [1. 8.]\n",
      " [1. 9.]]\n",
      "Z\n",
      " [[-7.72993843]\n",
      " [ 2.01608644]]\n"
     ]
    }
   ],
   "source": [
    "# Question 08\n",
    "import numpy as np\n",
    "m,c = 2, -4\n",
    "N = 10\n",
    "x = np.linspace(0, N-1, N).reshape(N,1)\n",
    "sigma = 10\n",
    "y = m*x + c + np.random.normal(0, sigma, (N,1))\n",
    "\n",
    "# part (a)\n",
    "X = np.append(np.ones((N, 1)), x, axis = 1)\n",
    "print('X\\n', X)\n",
    "\n",
    "# part (b)\n",
    "XT = np.transpose(X)\n",
    "Z = np.matmul(np.matmul(np.linalg.inv(np.matmul(XT, X)), XT), y)\n",
    "print('Z\\n', Z)"
   ]
  },
  {
   "cell_type": "code",
   "execution_count": 51,
   "metadata": {},
   "outputs": [],
   "source": [
    "# Question 10\n",
    "import cv2 as cv\n",
    "\n",
    "img = cv.imread(\"gal_gaussian.png\")\n",
    "\n",
    "blur = cv.GaussianBlur(img, (5, 5), 0)\n",
    "\n",
    "cv.namedWindow('Image', cv.WINDOW_AUTOSIZE) \n",
    "cv.imshow('Image', img)\n",
    "cv.waitKey(0)\n",
    "cv.imshow('blurred Image', blur)\n",
    "cv.waitKey(0)\n",
    "cv.destroyAllWindows()"
   ]
  },
  {
   "cell_type": "code",
   "execution_count": 52,
   "metadata": {},
   "outputs": [],
   "source": [
    "# Question 11\n",
    "image = cv.imread(\"gal_sandp.png\")\n",
    "blur = cv.medianBlur(image, 5)\n",
    "\n",
    "cv.namedWindow(\"image\", cv.WINDOW_AUTOSIZE)\n",
    "cv.imshow(\"image\", image)\n",
    "cv.waitKey(0)\n",
    "cv.imshow(\"blurred image\",blur)\n",
    "cv.waitKey(0)\n",
    "cv.destroyAllWindows()\n"
   ]
  },
  {
   "cell_type": "code",
   "execution_count": 53,
   "metadata": {},
   "outputs": [
    {
     "data": {
      "image/png": "[encoded data removed]",
      "text/plain": [
       "<Figure size 432x288 with 1 Axes>"
      ]
     },
     "metadata": {
      "needs_background": "light"
     },
     "output_type": "display_data"
    }
   ],
   "source": [
    "# Question 12\n",
    "image = np.zeros((40, 60), dtype=np.uint8)\n",
    "image[0:21,30:] = 125\n",
    "\n",
    "plt.imshow(image, cmap='gray', vmin=0, vmax=255)\n",
    "plt.show()\n"
   ]
  },
  {
   "cell_type": "code",
   "execution_count": 54,
   "metadata": {},
   "outputs": [
    {
     "data": {
      "image/png": "[encoded data removed]",
      "text/plain": [
       "<Figure size 432x288 with 1 Axes>"
      ]
     },
     "metadata": {
      "needs_background": "light"
     },
     "output_type": "display_data"
    }
   ],
   "source": [
    "# Question 13\n",
    "image = np.zeros( (40, 60, 3), dtype=np.uint8)\n",
    "image[21:, :31] = (218, 24, 132)\n",
    "image[:21,:] = (0, 255, 255)\n",
    "image[21:, 31:61] = (0, 255, 255)\n",
    "\n",
    "plt.imshow(image, cmap='pink', vmin=0, vmax=255)\n",
    "plt.show()\n"
   ]
  },
  {
   "cell_type": "code",
   "execution_count": 55,
   "metadata": {},
   "outputs": [],
   "source": [
    "# Question 14\n",
    "image = cv.imread(\"tom_dark.jpg\")\n",
    "bright_image = image + 25\n",
    "\n",
    "cv.namedWindow(\"image\", cv.WINDOW_AUTOSIZE)\n",
    "cv.imshow(\"image\", image)\n",
    "cv.waitKey(0)\n",
    "cv.imshow(\"bright image\", bright_image)\n",
    "cv.waitKey(0)\n",
    "cv.destroyAllWindows()"
   ]
  }
 ],
 "metadata": {
  "interpreter": {
   "hash": "e81ec61c64f7d0d6fcab3f55656652e9d3d50d6cefd6c9bc002142836b7896f5"
  },
  "kernelspec": {
   "display_name": "Python 3.9.7 64-bit ('BM_1809': conda)",
   "language": "python",
   "name": "python3"
  },
  "language_info": {
   "codemirror_mode": {
    "name": "ipython",
    "version": 3
   },
   "file_extension": ".py",
   "mimetype": "text/x-python",
   "name": "python",
   "nbconvert_exporter": "python",
   "pygments_lexer": "ipython3",
   "version": "3.9.5"
  },
  "orig_nbformat": 4
 },
 "nbformat": 4,
 "nbformat_minor": 2
}
